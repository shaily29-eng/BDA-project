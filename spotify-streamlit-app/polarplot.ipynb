{
 "cells": [
  {
   "cell_type": "code",
   "execution_count": 4,
   "id": "c33279c3",
   "metadata": {},
   "outputs": [],
   "source": [
    "import numpy as np\n",
    "import matplotlib.pyplot as plt\n",
    "import streamlit as st\n",
    "\n",
    "def feature_plot(features):\n",
    "\n",
    "    labels= list(features)[:]\n",
    "    stats= features.mean().tolist()\n",
    "\n",
    "    angles=np.linspace(0, 2*np.pi, len(labels), endpoint=False)\n",
    "\n",
    "    # close the plot\n",
    "    stats=np.concatenate((stats,[stats[0]]))\n",
    "    angles=np.concatenate((angles,[angles[0]]))\n",
    "\n",
    "    #Size of the figure\n",
    "    fig=plt.figure(figsize = (18,18))\n",
    "\n",
    "    ax = fig.add_subplot(221, polar=True)\n",
    "    ax.plot(angles, stats, 'o-', linewidth=2, label = \"Features\", color= 'gray')\n",
    "    ax.fill(angles, stats, alpha=0.25, facecolor='gray')\n",
    "    ax.set_thetagrids(angles[0:7] * 180/np.pi, labels , fontsize = 13)\n",
    "\n",
    "\n",
    "    ax.set_rlabel_position(250)\n",
    "    plt.yticks([0.2 , 0.4 , 0.6 , 0.8  ], [\"0.2\",'0.4', \"0.6\", \"0.8\"], color=\"grey\", size=12)\n",
    "    plt.ylim(0,1)\n",
    "\n",
    "    plt.legend(loc='best', bbox_to_anchor=(0.1, 0.1))\n",
    "    \n",
    "    st.pyplot(plt)"
   ]
  },
  {
   "cell_type": "code",
   "execution_count": null,
   "id": "f78ee89a",
   "metadata": {},
   "outputs": [],
   "source": []
  }
 ],
 "metadata": {
  "kernelspec": {
   "display_name": "Python 3 (ipykernel)",
   "language": "python",
   "name": "python3"
  },
  "language_info": {
   "codemirror_mode": {
    "name": "ipython",
    "version": 3
   },
   "file_extension": ".py",
   "mimetype": "text/x-python",
   "name": "python",
   "nbconvert_exporter": "python",
   "pygments_lexer": "ipython3",
   "version": "3.9.12"
  }
 },
 "nbformat": 4,
 "nbformat_minor": 5
}
